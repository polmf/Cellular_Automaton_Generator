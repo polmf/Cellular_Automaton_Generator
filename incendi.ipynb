{
 "cells": [
  {
   "cell_type": "code",
   "execution_count": 1,
   "metadata": {},
   "outputs": [
    {
     "name": "stdout",
     "output_type": "stream",
     "text": [
      "S'han generat les dades aleatòries i s'han guardat en el fitxer: dades_vegetacio.txt\n"
     ]
    }
   ],
   "source": [
    "import random\n",
    "\n",
    "# Funció per generar dades aleatòries\n",
    "def generar_dades(num_files):\n",
    "    dades = []\n",
    "    for _ in range(num_files):\n",
    "        valor = random.randint(0, 1)  # Generem 0 o 1 aleatòriament\n",
    "        dades.append(str(valor))  # Afegim el valor com a cadena de text\n",
    "    return dades\n",
    "\n",
    "# Funció per escriure les dades en un fitxer\n",
    "def escriure_fitxer(dades, nom_fitxer):\n",
    "    with open(nom_fitxer, 'w') as file:\n",
    "        for valor in dades:\n",
    "            file.write(valor + '\\n')  # Escrivim cada valor seguit d'un salt de línia\n",
    "\n",
    "# Nombre de files que vols generar\n",
    "num_files = 100\n",
    "\n",
    "# Generar les dades aleatòries\n",
    "dades_generades = generar_dades(num_files)\n",
    "\n",
    "# Especifica el nom del fitxer de sortida\n",
    "nom_fitxer = 'dades_vegetacio.txt'\n",
    "\n",
    "# Escriure les dades en un fitxer\n",
    "escriure_fitxer(dades_generades, nom_fitxer)\n",
    "\n",
    "print(f\"S'han generat les dades aleatòries i s'han guardat en el fitxer: {nom_fitxer}\")"
   ]
  }
 ],
 "metadata": {
  "kernelspec": {
   "display_name": "Python 3",
   "language": "python",
   "name": "python3"
  },
  "language_info": {
   "codemirror_mode": {
    "name": "ipython",
    "version": 3
   },
   "file_extension": ".py",
   "mimetype": "text/x-python",
   "name": "python",
   "nbconvert_exporter": "python",
   "pygments_lexer": "ipython3",
   "version": "3.11.0"
  }
 },
 "nbformat": 4,
 "nbformat_minor": 2
}
