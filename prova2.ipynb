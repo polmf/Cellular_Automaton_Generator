{
 "cells": [
  {
   "cell_type": "code",
   "execution_count": 2,
   "metadata": {},
   "outputs": [],
   "source": [
    "import numpy as np\n",
    "import matplotlib.pyplot as plt\n",
    "from matplotlib.colors import ListedColormap"
   ]
  },
  {
   "cell_type": "code",
   "execution_count": 3,
   "metadata": {},
   "outputs": [],
   "source": [
    "# Lista de tonos de verde\n",
    "tonos_verdes = [\n",
    "    \"#C8FFB4\",  # Verde claro\n",
    "    \"#A3FF91\",  # Verde claro-medio\n",
    "    \"#7FFF6E\",  # Verde medio\n",
    "    \"#5BCF4F\",  # Verde medio-intenso\n",
    "    \"#3FA33F\",  # Verde intenso\n",
    "    \"#2E8330\",  # Verde oscuro-intenso\n",
    "    \"#1F6420\",  # Verde oscuro\n",
    "    \"#0F4710\",  # Verde oscuro-medio\n",
    "    \"#002500\"   # Verde muy oscuro\n",
    "]"
   ]
  },
  {
   "cell_type": "code",
   "execution_count": 28,
   "metadata": {},
   "outputs": [],
   "source": [
    "def actualitzar_bosc(bosc, humitat, estats):\n",
    "    filas = len(bosc)\n",
    "    columnas = len(bosc[0])\n",
    "    \n",
    "    estats_copia = estats.copy()\n",
    "    \n",
    "    for i in range(filas):\n",
    "        for j in range(columnas):\n",
    "            if estats_copia[i][j] == 1:  # Mirar si en el temps x s'esta cremant \n",
    "                for di in [-1, 0, 1]:\n",
    "                    for dj in [-1, 0, 1]:\n",
    "                        ni, nj = i + di, j + dj #Mirar tots els seus veins\n",
    "                        if 0 <= ni < filas and 0 <= nj < columnas:\n",
    "                            if humitat[ni][nj] > 0: # Si tenen humitat resta -1 humitat\n",
    "                                humitat[ni][nj] -= 1\n",
    "                                if humitat[ni][nj] == 0 and bosc[ni][nj] != 0: # Si té humitat 0 i té vegetació la casella es crema\n",
    "                                    estats[ni][nj] = 1  \n",
    "                            elif bosc[ni][nj] > 0 and humitat[ni][nj] == 0: # Si la humitat s'ha consumit i hi ha vegetació es crema (-1)\n",
    "                                bosc[ni][nj] -= 1\n",
    "                                if bosc[ni][nj] == 0: # Si ja no queda vegetació la casella s'ha cremat\n",
    "                                    estats[ni][nj] = 2  \n",
    "    \n",
    "    return bosc, humitat, estats"
   ]
  },
  {
   "cell_type": "code",
   "execution_count": 31,
   "metadata": {},
   "outputs": [
    {
     "data": {
      "image/png": "[encoded data removed]",
      "text/plain": [
       "<Figure size 800x800 with 1 Axes>"
      ]
     },
     "metadata": {},
     "output_type": "display_data"
    }
   ],
   "source": [
    "import numpy as np\n",
    "import matplotlib.pyplot as plt\n",
    "from matplotlib.colors import ListedColormap\n",
    "from IPython import display\n",
    "\n",
    "def visualitzar(bosc, estats):\n",
    "    n = len(bosc)\n",
    "    m = len(bosc[0])\n",
    "    \n",
    "\n",
    "    display.clear_output(wait=True)\n",
    "    plt.figure(figsize=(8, 8))\n",
    "    \n",
    "    # Pintar de verd les zones de vegatació segons la seva quantitat\n",
    "    cmap_custom = ListedColormap(tonos_verdes)\n",
    "    \n",
    "    # Establir el color marró per a les caselles sense vegatació\n",
    "    cmap_custom.set_under('#8B4513')  # Marrón oscuro para las áreas no boscosas\n",
    "    \n",
    "    # Pintar de marró les caselles sense vegetació\n",
    "    bosc_colors = np.where(bosc == 0, 0.1, bosc)\n",
    "    plt.imshow(bosc_colors, cmap=cmap_custom, vmin=0.5, vmax=10)\n",
    "    \n",
    "    plt.colorbar().remove()\n",
    "    \n",
    "    plt.xticks([])\n",
    "    plt.yticks([])\n",
    "    \n",
    "    # Respresentar l'estat de les caselles\n",
    "    for i in range(n):\n",
    "        for j in range(m):\n",
    "            if estats[i][j] == 1: # Si la casella s'esta cremant es pinta de vermell\n",
    "                plt.gca().add_patch(plt.Rectangle((j - 0.5, i - 0.52), 1, 1, fill=True, color='#FF2000'))  # Color entre rojo y naranja\n",
    "                \n",
    "            elif estats[i][j] == 2: # Si la casella esta cremada es pinta de gris fosc\n",
    "                plt.gca().add_patch(plt.Rectangle((j - 0.5, i - 0.52), 1, 1, fill=True, color='#111111'))  # Color entre gris y negro\n",
    "    \n",
    "    \n",
    "    plt.show()\n",
    "    plt.pause(0.5)  \n",
    "\n",
    "# Generación de la matriz y las actualizaciones\n",
    "np.random.seed(42)\n",
    "n = 10  # Número de filas\n",
    "m = 10  # Número de columnas\n",
    "bosc = np.random.randint(0, 11, size=(n, m))\n",
    "humitat = np.random.randint(0, 5, size=(n, m))\n",
    "estats = np.zeros((n, m), dtype=int)\n",
    "x_fire, y_fire = np.random.randint(0, n), np.random.randint(0, m)\n",
    "humitat[x_fire][y_fire] = 0\n",
    "estats[x_fire][y_fire] = 1\n",
    "\n",
    "for i in range(25):\n",
    "    visualitzar(bosc, estats)\n",
    "    bosc, humitat, estats = actualitzar_bosc(bosc, humitat, estats)\n"
   ]
  }
 ],
 "metadata": {
  "kernelspec": {
   "display_name": "Python 3",
   "language": "python",
   "name": "python3"
  },
  "language_info": {
   "codemirror_mode": {
    "name": "ipython",
    "version": 3
   },
   "file_extension": ".py",
   "mimetype": "text/x-python",
   "name": "python",
   "nbconvert_exporter": "python",
   "pygments_lexer": "ipython3",
   "version": "3.12.3"
  }
 },
 "nbformat": 4,
 "nbformat_minor": 2
}
