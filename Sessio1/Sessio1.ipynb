{
 "cells": [
  {
   "cell_type": "markdown",
   "metadata": {},
   "source": [
    "# Sessió 1"
   ]
  },
  {
   "cell_type": "code",
   "execution_count": 3,
   "metadata": {},
   "outputs": [
    {
     "name": "stdout",
     "output_type": "stream",
     "text": [
      "Generació 0: 00000000000000000000000001000000000000000000000000\n",
      "Generació 1: 00000000000000000000000011100000000000000000000000\n",
      "Generació 2: 00000000000000000000000110010000000000000000000000\n",
      "Generació 3: 00000000000000000000001101111000000000000000000000\n",
      "Generació 4: 00000000000000000000011001000100000000000000000000\n",
      "Generació 5: 00000000000000000000110111101110000000000000000000\n",
      "Generació 6: 00000000000000000001100100001001000000000000000000\n",
      "Generació 7: 00000000000000000011011110011111100000000000000000\n",
      "Generació 8: 00000000000000000110010001110000010000000000000000\n",
      "Generació 9: 00000000000000001101111011001000111000000000000000\n",
      "Generació 10: 00000000000000011001000010111101100100000000000000\n"
     ]
    }
   ],
   "source": [
    "def wolfram_rule(rule_number, initial_state, generations):\n",
    "    \"\"\"\n",
    "    Implementació d'un autòmat cel·lular elemental que segueix les regles de Wolfram.\n",
    "\n",
    "    :param rule_number: El número de regla de Wolfram (entre 0 i 255).\n",
    "    :param initial_state: L'estat inicial de les cel·les (una llista de 0s i 1s).\n",
    "    :param generations: El nombre de generacions a evolucionar.\n",
    "    :return: Una llista que conté les generacions successives de l'autòmat cel·lular.\n",
    "    \"\"\"\n",
    "    \n",
    "    def apply_rule(state, rule):\n",
    "        new_state = []\n",
    "        for i in range(len(state)):\n",
    "            # Troba els valors dels veïns\n",
    "            left = state[i - 1]\n",
    "            center = state[i]\n",
    "            right = state[(i + 1) % len(state)]  # Tenim en compte el límit circular\n",
    "\n",
    "            # Calcula el nou valor de la cel·la\n",
    "            new_value = rule[7 - (left << 2 | center << 1 | right)]\n",
    "            new_state.append(new_value)\n",
    "        return new_state\n",
    "\n",
    "    # Converteix el número de regla en una llista de 0s i 1s\n",
    "    rule = [int(x) for x in format(rule_number, '08b')]\n",
    "    state = initial_state\n",
    "    evolution = [state[:]]  # Llista per desar totes les generacions\n",
    "\n",
    "    # Aplica la regla per a cada generació\n",
    "    for _ in range(generations):\n",
    "        state = apply_rule(state, rule)\n",
    "        evolution.append(state[:])\n",
    "\n",
    "    return evolution\n",
    "\n",
    "# Exemple d'ús\n",
    "rule_number1 = 30\n",
    "rule_number2 = 54\n",
    "initial_state = [0] * 50  # Estat inicial amb 50 cel·les totes a 0\n",
    "initial_state[25] = 1  # Posicionem una cel·la a 1 a la posició central\n",
    "generations = 10\n",
    "\n",
    "evolution = wolfram_rule(rule_number1, initial_state, generations)\n",
    "\n",
    "# Mostra les generacions\n",
    "for i, gen in enumerate(evolution):\n",
    "    print(f\"Generació {i}: {''.join(map(str, gen))}\")\n"
   ]
  },
  {
   "cell_type": "code",
   "execution_count": 7,
   "metadata": {},
   "outputs": [
    {
     "data": {
      "image/png": "[encoded data removed]",
      "text/plain": [
       "<Figure size 1000x600 with 1 Axes>"
      ]
     },
     "metadata": {},
     "output_type": "display_data"
    }
   ],
   "source": [
    "import matplotlib.pyplot as plt\n",
    "\n",
    "def apply_wolfram_rule(rule_binary, current_row, width):\n",
    "    new_row = []\n",
    "\n",
    "    for i in range(width):\n",
    "        left = current_row[(i-1) % width]\n",
    "        center = current_row[i]\n",
    "        right = current_row[(i+1) % width]\n",
    "        index = int(f'{left}{center}{right}', 2)\n",
    "        new_row.append(int(rule_binary[7 - index]))\n",
    "\n",
    "    return new_row\n",
    "\n",
    "def combine_rows(rows):\n",
    "    combined_row = []\n",
    "    for cell_states in zip(*rows):\n",
    "        combined_cell = 0\n",
    "        for state in cell_states:\n",
    "            combined_cell |= state\n",
    "        combined_row.append(combined_cell)\n",
    "    return combined_row\n",
    "\n",
    "def multicellular_wolfram(rules, steps, width):\n",
    "    initial_row = [0] * width\n",
    "    initial_row[width // 2] = 1\n",
    "    grid = [initial_row]\n",
    "\n",
    "    for _ in range(steps):\n",
    "        current_row = grid[-1]\n",
    "        new_rows = []\n",
    "\n",
    "        for rule_binary in rules:\n",
    "            new_rows.append(apply_wolfram_rule(rule_binary, current_row, width))\n",
    "\n",
    "        combined_row = combine_rows(new_rows)\n",
    "        grid.append(combined_row)\n",
    "\n",
    "    return grid\n",
    "\n",
    "def plot_evolution(grid):\n",
    "    plt.figure(figsize=(10, 6))\n",
    "    plt.imshow(grid, cmap='Greys', interpolation='nearest')\n",
    "    plt.title('Evolution of Cellular Automaton')\n",
    "    plt.xlabel('Cell Index')\n",
    "    plt.ylabel('Time Step')\n",
    "    plt.show()\n",
    "\n",
    "# Example usage\n",
    "rules = ['00011110','00101110']  # Wolfram rule numbers 30, 46, 54\n",
    "steps = 50\n",
    "width = 101\n",
    "\n",
    "grid = multicellular_wolfram(rules, steps, width)\n",
    "plot_evolution(grid)"
   ]
  }
 ],
 "metadata": {
  "kernelspec": {
   "display_name": "Python 3",
   "language": "python",
   "name": "python3"
  },
  "language_info": {
   "codemirror_mode": {
    "name": "ipython",
    "version": 3
   },
   "file_extension": ".py",
   "mimetype": "text/x-python",
   "name": "python",
   "nbconvert_exporter": "python",
   "pygments_lexer": "ipython3",
   "version": "3.11.0"
  }
 },
 "nbformat": 4,
 "nbformat_minor": 2
}
